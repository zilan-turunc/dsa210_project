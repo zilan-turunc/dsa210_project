{
 "cells": [
  {
   "cell_type": "code",
   "execution_count": 5,
   "metadata": {},
   "outputs": [
    {
     "name": "stdout",
     "output_type": "stream",
     "text": [
      "Testing with the first link: https://www.tiktokv.com/share/video/7420516801865321735/\n",
      "Fetching: https://www.tiktokv.com/share/video/7420516801865321735/\n",
      "Response received. Checking HTML content...\n",
      "No meta tag with property='og:description' found.\n",
      "Hashtags for the first link: []\n"
     ]
    }
   ],
   "source": [
    "import json\n",
    "import requests\n",
    "from bs4 import BeautifulSoup\n",
    "\n",
    "# Function to extract hashtags from the <meta property=\"og:description\"> tag\n",
    "def extract_hashtags(url):\n",
    "    headers = {\n",
    "        \"User-Agent\": \"Mozilla/5.0 (Windows NT 10.0; Win64; x64) AppleWebKit/537.36 (KHTML, like Gecko) Chrome/91.0.4472.124 Safari/537.36\"\n",
    "    }\n",
    "    try:\n",
    "        print(f\"Fetching: {url}\")\n",
    "        response = requests.get(url, headers=headers)\n",
    "        response.raise_for_status()  # Raise exception for HTTP errors\n",
    "        print(\"Response received. Checking HTML content...\")\n",
    "\n",
    "        soup = BeautifulSoup(response.text, 'html.parser')\n",
    "        meta_tag = soup.find(\"meta\", {\"property\": \"og:description\"})\n",
    "        \n",
    "        if meta_tag and \"content\" in meta_tag.attrs:\n",
    "            content = meta_tag[\"content\"]\n",
    "            print(f\"Found meta tag content: {content}\")\n",
    "            hashtags = [word.strip(\"#\") for word in content.split() if word.startswith(\"#\")]\n",
    "            print(f\"Extracted hashtags: {hashtags}\")\n",
    "            return hashtags\n",
    "        else:\n",
    "            print(\"No meta tag with property='og:description' found.\")\n",
    "        return []\n",
    "    except Exception as e:\n",
    "        print(f\"Error processing {url}: {e}\")\n",
    "        return []\n",
    "\n",
    "# Path to the JSON file\n",
    "file_path = \"output_by_month/2024-09.json\"\n",
    "\n",
    "# Load the JSON file\n",
    "with open(file_path, 'r') as file:\n",
    "    dataset = json.load(file)\n",
    "\n",
    "# Access the first link in \"VideoList\"\n",
    "if \"VideoList\" in dataset and len(dataset[\"VideoList\"]) > 0:\n",
    "    first_link = dataset[\"VideoList\"][0][\"Link\"]\n",
    "    print(f\"Testing with the first link: {first_link}\")\n",
    "\n",
    "    # Extract hashtags for the first link\n",
    "    hashtags = extract_hashtags(first_link)\n",
    "    print(f\"Hashtags for the first link: {hashtags}\")\n",
    "else:\n",
    "    print(\"No valid links found in the dataset.\")\n"
   ]
  }
 ],
 "metadata": {
  "kernelspec": {
   "display_name": "Python 3",
   "language": "python",
   "name": "python3"
  },
  "language_info": {
   "codemirror_mode": {
    "name": "ipython",
    "version": 3
   },
   "file_extension": ".py",
   "mimetype": "text/x-python",
   "name": "python",
   "nbconvert_exporter": "python",
   "pygments_lexer": "ipython3",
   "version": "3.12.1"
  }
 },
 "nbformat": 4,
 "nbformat_minor": 2
}

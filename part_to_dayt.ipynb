{
 "cells": [
  {
   "cell_type": "code",
   "execution_count": 7,
   "metadata": {},
   "outputs": [],
   "source": [
    "import json\n",
    "from collections import defaultdict\n",
    "import os\n",
    "\n",
    "def separate_videos_by_day(input_file, output_dir):\n",
    "    with open(input_file, 'r', encoding='utf-8') as f:\n",
    "        data = json.load(f)\n",
    "    \n",
    "    videos = data.get(\"VideoList\", [])\n",
    "    separated = defaultdict(list)\n",
    "    \n",
    "    for video in videos:\n",
    "        date_str = video.get(\"Date\", \"\")\n",
    "        if date_str:\n",
    "            date = date_str.split(' ')[0]  # Extract 'YYYY-MM-DD'\n",
    "            separated[date].append(video)\n",
    "    \n",
    "    os.makedirs(output_dir, exist_ok=True)\n",
    "    \n",
    "    sorted_dates = sorted(separated.keys())\n",
    "    \n",
    "    for idx, date in enumerate(sorted_dates, start=1):\n",
    "        output = {\"VideoList\": separated[date]}\n",
    "        output_path = os.path.join(output_dir, f\"{idx}.json\")\n",
    "        with open(output_path, 'w', encoding='utf-8') as f:\n",
    "            json.dump(output, f, indent=4)\n",
    "    \n",
    "if __name__ == \"__main__\":\n",
    "    input_file = \"output_by_month/2024-05.json\"\n",
    "    output_dir = \"separated_05\"\n",
    "    separate_videos_by_day(input_file, output_dir)\n",
    "\n"
   ]
  }
 ],
 "metadata": {
  "kernelspec": {
   "display_name": "Python 3",
   "language": "python",
   "name": "python3"
  },
  "language_info": {
   "codemirror_mode": {
    "name": "ipython",
    "version": 3
   },
   "file_extension": ".py",
   "mimetype": "text/x-python",
   "name": "python",
   "nbconvert_exporter": "python",
   "pygments_lexer": "ipython3",
   "version": "3.12.1"
  }
 },
 "nbformat": 4,
 "nbformat_minor": 2
}

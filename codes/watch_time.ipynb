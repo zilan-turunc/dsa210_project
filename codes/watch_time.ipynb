{
 "cells": [
  {
   "cell_type": "code",
   "execution_count": 3,
   "metadata": {},
   "outputs": [
    {
     "name": "stdout",
     "output_type": "stream",
     "text": [
      "All data combined, ordered, and saved to combined_watch_time.csv.\n"
     ]
    }
   ],
   "source": [
    "import os\n",
    "import json\n",
    "from datetime import datetime, timedelta\n",
    "from collections import defaultdict\n",
    "import csv\n",
    "\n",
    "# Directory containing monthly watch history files\n",
    "directory = \"output_by_month\"\n",
    "\n",
    "# Path to the cycle data file\n",
    "cycle_data_file = \"cycle_data.json\"\n",
    "\n",
    "# Load cycle data\n",
    "with open(cycle_data_file, \"r\") as file:\n",
    "    cycle_data = json.load(file)\n",
    "\n",
    "# Parse cycle start and end dates\n",
    "cycles = [\n",
    "    (\n",
    "        datetime.strptime(cycle[\"period_start_date\"], \"%Y-%m-%d %H:%M:%S.%f\"),\n",
    "        datetime.strptime(cycle[\"period_end_date\"], \"%Y-%m-%d %H:%M:%S.%f\")\n",
    "    )\n",
    "    for cycle in cycle_data\n",
    "]\n",
    "\n",
    "# List to store all data\n",
    "all_data = []\n",
    "\n",
    "# Check if the directory exists\n",
    "if not os.path.exists(directory):\n",
    "    print(f\"Directory '{directory}' not found. Please ensure it exists and contains the data files.\")\n",
    "else:\n",
    "    # Iterate through all files in the directory\n",
    "    for filename in os.listdir(directory):\n",
    "        if filename.endswith(\".json\"):\n",
    "            file_path = os.path.join(directory, filename)\n",
    "            \n",
    "            # Initialize dictionary to store total watch hours per day for the current month\n",
    "            watch_time_per_day = defaultdict(float)\n",
    "            \n",
    "            # Read the JSON file\n",
    "            with open(file_path, \"r\") as file:\n",
    "                data = json.load(file)\n",
    "            \n",
    "            # Extract and process each video entry\n",
    "            for entry in data.get(\"VideoList\", []):\n",
    "                watch_date = datetime.strptime(entry[\"Date\"], \"%Y-%m-%d %H:%M:%S\")\n",
    "                day = watch_date.date()  # Extract the date part\n",
    "                watch_time_per_day[day] += 1 / 60  # Assuming each video is 1 minute\n",
    "\n",
    "            # Determine cycle days\n",
    "            cycle_days = set()\n",
    "            for start, end in cycles:\n",
    "                for day in watch_time_per_day.keys():\n",
    "                    if start.date() <= day <= end.date():\n",
    "                        cycle_days.add(day)\n",
    "\n",
    "            # Add data to the list\n",
    "            for day in sorted(watch_time_per_day.keys()):\n",
    "                is_cycle_day = \"Yes\" if day in cycle_days else \"No\"\n",
    "                all_data.append((day, round(watch_time_per_day[day], 2), is_cycle_day))\n",
    "\n",
    "# Sort all data by date\n",
    "all_data.sort(key=lambda x: x[0])\n",
    "\n",
    "# Write all data to a single CSV file\n",
    "output_csv_file = \"combined_watch_time.csv\"\n",
    "with open(output_csv_file, \"w\", newline=\"\") as csvfile:\n",
    "    writer = csv.writer(csvfile)\n",
    "    writer.writerow([\"Date\", \"Watch Hours\", \"Cycle Day\"])  # Write header row\n",
    "    for row in all_data:\n",
    "        writer.writerow(row)\n",
    "\n",
    "print(f\"All data combined, ordered, and saved to {output_csv_file}.\")\n"
   ]
  }
 ],
 "metadata": {
  "kernelspec": {
   "display_name": "Python 3",
   "language": "python",
   "name": "python3"
  },
  "language_info": {
   "codemirror_mode": {
    "name": "ipython",
    "version": 3
   },
   "file_extension": ".py",
   "mimetype": "text/x-python",
   "name": "python",
   "nbconvert_exporter": "python",
   "pygments_lexer": "ipython3",
   "version": "3.12.1"
  }
 },
 "nbformat": 4,
 "nbformat_minor": 2
}

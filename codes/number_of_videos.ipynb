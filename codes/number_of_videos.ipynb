{
 "cells": [
  {
   "cell_type": "code",
   "execution_count": 5,
   "metadata": {},
   "outputs": [
    {
     "name": "stdout",
     "output_type": "stream",
     "text": [
      "Summary written to: output_by_month/video_statistics.txt\n"
     ]
    },
    {
     "name": "stderr",
     "output_type": "stream",
     "text": [
      "/tmp/ipykernel_280196/2442835020.py:34: DeprecationWarning: DataFrameGroupBy.apply operated on the grouping columns. This behavior is deprecated, and in a future version of pandas the grouping columns will be excluded from the operation. Either pass `include_groups=False` to exclude the groupings or explicitly select the grouping columns after groupby to silence this warning.\n",
      "  monthly_max = df.groupby('Month').apply(lambda x: x.loc[x[\"VideoCount\"].idxmax()])\n"
     ]
    }
   ],
   "source": [
    "import os\n",
    "import json\n",
    "from datetime import datetime\n",
    "import pandas as pd\n",
    "\n",
    "def count_videos_in_day(folder_path):\n",
    "    video_counts = {}\n",
    "\n",
    "    # Iterate through all JSON files in the folder\n",
    "    for file_name in os.listdir(folder_path):\n",
    "        if file_name.endswith('.json'):\n",
    "            file_path = os.path.join(folder_path, file_name)\n",
    "            with open(file_path, 'r') as f:\n",
    "                data = json.load(f)\n",
    "\n",
    "                # Process data with a \"VideoList\"\n",
    "                if \"VideoList\" in data:\n",
    "                    dates = [entry[\"Date\"].split(\" \")[0] for entry in data[\"VideoList\"]]\n",
    "\n",
    "                    # Count occurrences per date\n",
    "                    for date in dates:\n",
    "                        if date:\n",
    "                            video_counts[date] = video_counts.get(date, 0) + 1\n",
    "\n",
    "    # Create a DataFrame to organize the data\n",
    "    if video_counts:\n",
    "        df = pd.DataFrame(list(video_counts.items()), columns=[\"Date\", \"VideoCount\"])\n",
    "        df[\"Date\"] = pd.to_datetime(df[\"Date\"])\n",
    "        df = df.sort_values(by=\"Date\")\n",
    "\n",
    "        # Calculate monthly statistics\n",
    "        df['Month'] = df['Date'].dt.to_period('M')\n",
    "        monthly_averages = df.groupby('Month')[\"VideoCount\"].mean()\n",
    "        monthly_max = df.groupby('Month').apply(lambda x: x.loc[x[\"VideoCount\"].idxmax()])\n",
    "\n",
    "        # Calculate overall maximum statistics\n",
    "        overall_max = df.loc[df[\"VideoCount\"].idxmax()]\n",
    "\n",
    "        # Write to a file\n",
    "        output_file = os.path.join(folder_path, \"video_statistics.txt\")\n",
    "        with open(output_file, \"w\") as f:\n",
    "            # Write daily statistics\n",
    "            for _, row in df.iterrows():\n",
    "                f.write(f\"{row['Date'].strftime('%Y-%m-%d')} = {row['VideoCount']} videos watched\\n\")\n",
    "\n",
    "            # Write monthly average statistics\n",
    "            f.write(\"\\nMonthly Averages:\\n\")\n",
    "            for month, avg in monthly_averages.items():\n",
    "                f.write(f\"{month} = {avg:.2f} videos on average\\n\")\n",
    "\n",
    "            # Write maximum statistics for each month\n",
    "            f.write(\"\\nMonthly Maximums:\\n\")\n",
    "            for _, row in monthly_max.iterrows():\n",
    "                f.write(f\"{row['Month']} max: {row['VideoCount']} videos watched on {row['Date'].strftime('%Y-%m-%d')}\\n\")\n",
    "\n",
    "            # Write overall maximum statistics\n",
    "            f.write(\"\\nOverall Maximum:\\n\")\n",
    "            f.write(f\"{overall_max['VideoCount']} videos watched on {overall_max['Date'].strftime('%Y-%m-%d')}\\n\")\n",
    "\n",
    "        print(f\"Summary written to: {output_file}\")\n",
    "    else:\n",
    "        print(\"No valid data found in the JSON files.\")\n",
    "\n",
    "# Set the folder path containing the JSON files\n",
    "folder_path = \"output_by_month\"\n",
    "\n",
    "# Call the function\n",
    "count_videos_in_day(folder_path)\n"
   ]
  }
 ],
 "metadata": {
  "kernelspec": {
   "display_name": "Python 3",
   "language": "python",
   "name": "python3"
  },
  "language_info": {
   "codemirror_mode": {
    "name": "ipython",
    "version": 3
   },
   "file_extension": ".py",
   "mimetype": "text/x-python",
   "name": "python",
   "nbconvert_exporter": "python",
   "pygments_lexer": "ipython3",
   "version": "3.12.1"
  }
 },
 "nbformat": 4,
 "nbformat_minor": 2
}

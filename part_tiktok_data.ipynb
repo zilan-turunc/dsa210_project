{
 "cells": [
  {
   "cell_type": "code",
   "execution_count": 1,
   "metadata": {},
   "outputs": [
    {
     "name": "stdout",
     "output_type": "stream",
     "text": [
      "Data for 2024 written to output_by_year/2024.json\n",
      "Data for 2023 written to output_by_year/2023.json\n",
      "Data for 2022 written to output_by_year/2022.json\n",
      "Data for 2021 written to output_by_year/2021.json\n",
      "Data for 2020 written to output_by_year/2020.json\n",
      "Data for 2019 written to output_by_year/2019.json\n",
      "Data separation by year complete!\n"
     ]
    }
   ],
   "source": [
    "import json\n",
    "from datetime import datetime\n",
    "from pathlib import Path\n",
    "\n",
    "# Input file containing the data\n",
    "input_file = \"cleaned_tiktok_data.json\"  # Replace with your actual file name\n",
    "\n",
    "# List of target year files\n",
    "years = [2024, 2023, 2022, 2021, 2020, 2019]\n",
    "output_files = {year: f\"output_by_year/{year}.json\" for year in years}\n",
    "\n",
    "# Initialize output data structure for each year\n",
    "year_data = {year: [] for year in years}\n",
    "\n",
    "try:\n",
    "    # Load the main input JSON file\n",
    "    with open(input_file, 'r', encoding='utf-8') as f:\n",
    "        data = json.load(f)\n",
    "except FileNotFoundError:\n",
    "    print(f\"Error: Input file '{input_file}' not found.\")\n",
    "    exit()\n",
    "except json.JSONDecodeError as e:\n",
    "    print(f\"Error: Failed to parse JSON file. {e}\")\n",
    "    exit()\n",
    "\n",
    "# Extract \"video browsing history\" from the JSON structure\n",
    "video_list = data.get(\"Activity\", {}).get(\"Video Browsing History\", {}).get(\"VideoList\", [])\n",
    "\n",
    "if not video_list:\n",
    "    print(\"No video browsing history found in the provided JSON file.\")\n",
    "    exit()\n",
    "\n",
    "# Process each video entry and organize by year\n",
    "for video in video_list:\n",
    "    date_str = video.get(\"Date\")\n",
    "    if date_str:\n",
    "        try:\n",
    "            year = datetime.strptime(date_str, \"%Y-%m-%d %H:%M:%S\").year\n",
    "            if year in year_data:  # Add to the corresponding year if it's one of the target years\n",
    "                year_data[year].append(video)\n",
    "        except ValueError as e:\n",
    "            print(f\"Error parsing date '{date_str}': {e}\")\n",
    "\n",
    "# Write data to the respective year files\n",
    "for year, entries in year_data.items():\n",
    "    try:\n",
    "        with open(output_files[year], 'w', encoding='utf-8') as f:\n",
    "            json.dump({\"VideoList\": entries}, f, indent=4)\n",
    "        print(f\"Data for {year} written to {output_files[year]}\")\n",
    "    except Exception as e:\n",
    "        print(f\"Error writing file '{output_files[year]}': {e}\")\n",
    "\n",
    "print(\"Data separation by year complete!\")\n"
   ]
  }
 ],
 "metadata": {
  "kernelspec": {
   "display_name": "Python 3",
   "language": "python",
   "name": "python3"
  },
  "language_info": {
   "codemirror_mode": {
    "name": "ipython",
    "version": 3
   },
   "file_extension": ".py",
   "mimetype": "text/x-python",
   "name": "python",
   "nbconvert_exporter": "python",
   "pygments_lexer": "ipython3",
   "version": "3.12.1"
  }
 },
 "nbformat": 4,
 "nbformat_minor": 2
}

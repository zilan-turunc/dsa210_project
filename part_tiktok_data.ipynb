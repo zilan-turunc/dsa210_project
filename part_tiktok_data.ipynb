{
 "cells": [
  {
   "cell_type": "code",
   "execution_count": 4,
   "metadata": {},
   "outputs": [
    {
     "name": "stdout",
     "output_type": "stream",
     "text": [
      "Cycle data written to cycle_data.json\n"
     ]
    }
   ],
   "source": [
    "import json\n",
    "from pathlib import Path\n",
    "\n",
    "# Input file containing the dataset\n",
    "input_file = \"cleaned_point_events_manual_v2.json\"  # Replace with your actual file name\n",
    "\n",
    "# Output file for cycle data\n",
    "output_file = \"cycle_data.json\"\n",
    "\n",
    "try:\n",
    "    # Load the main input JSON file\n",
    "    with open(input_file, 'r', encoding='utf-8') as f:\n",
    "        data = json.load(f)\n",
    "except FileNotFoundError:\n",
    "    print(f\"Error: Input file '{input_file}' not found.\")\n",
    "    exit()\n",
    "except json.JSONDecodeError as e:\n",
    "    print(f\"Error: Failed to parse JSON file. {e}\")\n",
    "    exit()\n",
    "\n",
    "# Navigate to the cycles data under operationalData\n",
    "cycles = data.get(\"operationalData\", {}).get(\"cycles\", [])\n",
    "\n",
    "if not cycles:\n",
    "    print(\"No cycles data found in the provided JSON file.\")\n",
    "    exit()\n",
    "\n",
    "# Extract only the required fields from each cycle\n",
    "filtered_cycles = []\n",
    "for cycle in cycles:\n",
    "    filtered_cycles.append({\n",
    "        \"created_at\": cycle.get(\"created_at\"),\n",
    "        \"updated_at\": cycle.get(\"updated_at\"),\n",
    "        \"period_start_date\": cycle.get(\"period_start_date\"),\n",
    "        \"period_end_date\": cycle.get(\"period_end_date\")\n",
    "    })\n",
    "\n",
    "# Write the filtered cycles data to the output file\n",
    "try:\n",
    "    with open(output_file, 'w', encoding='utf-8') as f:\n",
    "        json.dump(filtered_cycles, f, indent=4)\n",
    "    print(f\"Cycle data written to {output_file}\")\n",
    "except Exception as e:\n",
    "    print(f\"Error writing file '{output_file}': {e}\")\n"
   ]
  }
 ],
 "metadata": {
  "kernelspec": {
   "display_name": "Python 3",
   "language": "python",
   "name": "python3"
  },
  "language_info": {
   "codemirror_mode": {
    "name": "ipython",
    "version": 3
   },
   "file_extension": ".py",
   "mimetype": "text/x-python",
   "name": "python",
   "nbconvert_exporter": "python",
   "pygments_lexer": "ipython3",
   "version": "3.12.1"
  }
 },
 "nbformat": 4,
 "nbformat_minor": 2
}

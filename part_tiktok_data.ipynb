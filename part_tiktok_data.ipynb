{
 "cells": [
  {
   "cell_type": "code",
   "execution_count": 4,
   "metadata": {},
   "outputs": [
    {
     "name": "stdout",
     "output_type": "stream",
     "text": [
      "File written: output_by_year/2024.json\n",
      "Data has been organized and saved in the directory 'output_by_year'.\n"
     ]
    }
   ],
   "source": [
    "import json\n",
    "from datetime import datetime\n",
    "from pathlib import Path\n",
    "\n",
    "# Load the JSON file\n",
    "input_file = \"cleaned_tiktok_data.json\"  # Ensure this file exists in the root folder of your Codespace\n",
    "output_dir = \"output_by_year\"  # Directory to save year-based files\n",
    "\n",
    "# Ensure the output directory exists\n",
    "Path(output_dir).mkdir(parents=True, exist_ok=True)\n",
    "\n",
    "try:\n",
    "    # Read JSON data\n",
    "    with open(input_file, 'r', encoding='utf-8') as f:\n",
    "        data = json.load(f)\n",
    "except FileNotFoundError:\n",
    "    print(f\"Error: Input file '{input_file}' not found.\")\n",
    "    exit()\n",
    "except json.JSONDecodeError as e:\n",
    "    print(f\"Error: Failed to parse JSON file. {e}\")\n",
    "    exit()\n",
    "\n",
    "# Navigate to the \"video browsing history\" under \"activity\"\n",
    "video_list = data.get(\"Activity\", {}).get(\"Video Browsing History\", {}).get(\"VideoList\", [])\n",
    "\n",
    "if not video_list:\n",
    "    print(\"No video browsing history found in the provided JSON file.\")\n",
    "    exit()\n",
    "\n",
    "# Organize videos by year\n",
    "videos_by_year = {}\n",
    "\n",
    "for video in video_list:\n",
    "    date_str = video.get(\"Date\")\n",
    "    if date_str:\n",
    "        try:\n",
    "            year = datetime.strptime(date_str, \"%Y-%m-%d %H:%M:%S\").year\n",
    "            if year not in videos_by_year:\n",
    "                videos_by_year[year] = []\n",
    "            videos_by_year[year].append(video)\n",
    "        except ValueError as e:\n",
    "            print(f\"Error parsing date '{date_str}': {e}\")\n",
    "\n",
    "# Write each year's data to separate JSON files\n",
    "for year, videos in videos_by_year.items():\n",
    "    output_file = Path(output_dir) / f\"{year}.json\"\n",
    "    try:\n",
    "        with open(output_file, 'w', encoding='utf-8') as f:\n",
    "            json.dump({\"VideoList\": videos}, f, indent=4)\n",
    "        print(f\"File written: {output_file}\")\n",
    "    except Exception as e:\n",
    "        print(f\"Error writing file '{output_file}': {e}\")\n",
    "\n",
    "print(f\"Data has been organized and saved in the directory '{output_dir}'.\")\n"
   ]
  }
 ],
 "metadata": {
  "kernelspec": {
   "display_name": "Python 3",
   "language": "python",
   "name": "python3"
  },
  "language_info": {
   "codemirror_mode": {
    "name": "ipython",
    "version": 3
   },
   "file_extension": ".py",
   "mimetype": "text/x-python",
   "name": "python",
   "nbconvert_exporter": "python",
   "pygments_lexer": "ipython3",
   "version": "3.12.1"
  }
 },
 "nbformat": 4,
 "nbformat_minor": 2
}

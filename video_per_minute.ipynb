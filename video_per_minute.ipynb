{
 "cells": [
  {
   "cell_type": "code",
   "execution_count": 1,
   "metadata": {},
   "outputs": [
    {
     "name": "stdout",
     "output_type": "stream",
     "text": [
      "Updated data saved to video_per_minutes.csv\n"
     ]
    }
   ],
   "source": [
    "import pandas as pd\n",
    "from datetime import datetime\n",
    "\n",
    "# Load the TXT file containing videos watched\n",
    "videos_txt_file = 'video_statistics.txt'\n",
    "videos_data = {}\n",
    "with open(videos_txt_file, 'r') as file:\n",
    "    for line in file:\n",
    "        if '=' in line and 'videos watched' in line:\n",
    "            date, videos = line.split('=')\n",
    "            videos_data[date.strip()] = int(videos.split()[0])\n",
    "\n",
    "# Load the CSV file containing screentime and cycle information\n",
    "csv_file = 'combined_watch_time.csv'\n",
    "data = pd.read_csv(csv_file)\n",
    "\n",
    "# Ensure the CSV contains the necessary columns\n",
    "if not {'Date', 'Watch Hours', 'Cycle Day'}.issubset(data.columns):\n",
    "    raise ValueError(\"The CSV file must contain 'Date', 'Watch Hours', and 'Cycle Day' columns.\")\n",
    "\n",
    "# Add the number of videos watched from the TXT file to the DataFrame\n",
    "data['Videos Watched'] = data['Date'].map(videos_data.get)\n",
    "\n",
    "# Calculate videos per minute\n",
    "if 'Watch Hours' in data.columns:\n",
    "    data['Videos Per Minute'] = data.apply(\n",
    "        lambda row: row['Videos Watched'] / (row['Watch Hours'] * 60) if row['Watch Hours'] > 0 else None,\n",
    "        axis=1\n",
    "    )\n",
    "else:\n",
    "    raise ValueError(\"The CSV file must contain a 'Watch Hours' column.\")\n",
    "\n",
    "# Save the updated DataFrame to a new CSV file\n",
    "output_file = 'video_per_minutes.csv'\n",
    "data.to_csv(output_file, index=False)\n",
    "\n",
    "print(f\"Updated data saved to {output_file}\")\n"
   ]
  }
 ],
 "metadata": {
  "kernelspec": {
   "display_name": "Python 3",
   "language": "python",
   "name": "python3"
  },
  "language_info": {
   "codemirror_mode": {
    "name": "ipython",
    "version": 3
   },
   "file_extension": ".py",
   "mimetype": "text/x-python",
   "name": "python",
   "nbconvert_exporter": "python",
   "pygments_lexer": "ipython3",
   "version": "3.12.1"
  }
 },
 "nbformat": 4,
 "nbformat_minor": 2
}
